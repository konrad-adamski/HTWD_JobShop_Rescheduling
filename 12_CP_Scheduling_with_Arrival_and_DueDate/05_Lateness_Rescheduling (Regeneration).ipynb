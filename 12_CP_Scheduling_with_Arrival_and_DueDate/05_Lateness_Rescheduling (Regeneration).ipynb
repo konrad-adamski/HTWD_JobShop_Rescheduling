{
 "cells": [
  {
   "metadata": {},
   "cell_type": "markdown",
   "source": [
    "# Rescheduling mit Tardiness (Summe)\n",
    "> Planunghorizont Tag 0: 2 Tage\n",
    "> Rescheduling des Tages 1"
   ],
   "id": "931bc80c98da12ed"
  },
  {
   "metadata": {},
   "cell_type": "code",
   "outputs": [],
   "execution_count": null,
   "source": "max_time = 60*30 # 1/2h",
   "id": "5f6a1202420181e2"
  },
  {
   "metadata": {},
   "cell_type": "code",
   "outputs": [],
   "execution_count": null,
   "source": "import time",
   "id": "cd015f1d1e4d9eb9"
  },
  {
   "metadata": {},
   "cell_type": "code",
   "outputs": [],
   "execution_count": null,
   "source": [
    "from ortools.sat.python import cp_model\n",
    "import pandas as pd\n",
    "import numpy as np\n",
    "import math\n",
    "\n",
    "pd.set_option('display.max_rows', 20)"
   ],
   "id": "f0a759ec9a9e615c"
  },
  {
   "metadata": {},
   "cell_type": "code",
   "outputs": [],
   "execution_count": null,
   "source": [
    "import utils.presenter as show\n",
    "import utils.checker as check\n",
    "\n",
    "import utils.schedule_interarrival as sit\n",
    "import utils.scheduling_solver as ssv\n",
    "import utils.rescheduling_solver_tardiness as rssv\n",
    "\n",
    "from ProductionDaySimulation import ProductionDaySimulation"
   ],
   "id": "fb2fd3ac0960968"
  },
  {
   "metadata": {},
   "cell_type": "code",
   "outputs": [],
   "execution_count": null,
   "source": [
    "import utils.rolling_planning.init_jobs_times as rp_init\n",
    "import utils.schedule_deadline as deadline_gen"
   ],
   "id": "73bb546cf70a08d1"
  },
  {
   "metadata": {},
   "cell_type": "code",
   "outputs": [],
   "execution_count": null,
   "source": [
    "df_instance = pd.read_csv(\"data/00_instance.csv\")\n",
    "df_instance"
   ],
   "id": "df9e842494089b55"
  },
  {
   "metadata": {},
   "cell_type": "code",
   "outputs": [],
   "execution_count": null,
   "source": [
    "df_jssp, df_arrivals = rp_init.init_jobs_with_arrivals(df_instance, 3,  u_b_mmax = 0.95)\n",
    "df_jssp"
   ],
   "id": "17d6386656550e76"
  },
  {
   "metadata": {},
   "cell_type": "code",
   "outputs": [],
   "execution_count": null,
   "source": [
    "# Arrival-Werte durchmischen (aber nicht verändern)\n",
    "#df_arrivals['Arrival'] = df_arrivals['Arrival'].sample(frac=1.0, random_state=42).reset_index(drop=True)\n",
    "#df_arrivals"
   ],
   "id": "4408b18c207bed78"
  },
  {
   "metadata": {},
   "cell_type": "code",
   "outputs": [],
   "execution_count": null,
   "source": [
    "df_times = deadline_gen.get_times_df(df_jssp, df_arrivals, ssv.schedule_fcfs_with_arrivals, target_service=1.0)\n",
    "df_times[\"Arrival\"] = np.floor(df_times[\"Arrival\"]).astype(int)\n",
    "df_times[\"Deadline\"] = np.ceil(df_times[\"Deadline\"]).astype(int)\n",
    "df_times"
   ],
   "id": "32d6297f58247d17"
  },
  {
   "metadata": {},
   "cell_type": "markdown",
   "source": "## I) Complete Scheduling",
   "id": "1a0ae21915147fa5"
  },
  {
   "metadata": {},
   "cell_type": "code",
   "outputs": [],
   "execution_count": null,
   "source": [
    "starting_time = time.time()\n",
    "\n",
    "# Scheduling\n",
    "df_plan = ssv.solve_cp_jssp_lateness_by_tardiness_and_earliness(df_jssp, df_times,w_t = 5,\n",
    "                                                                msg=False, timeLimit=max_time, gapRel= 0.00)\n",
    "df_plan\n",
    "\n",
    "# Informationen\n",
    "ending_time = time.time()\n",
    "solver_duration = ending_time - starting_time\n",
    "print(f\"\\nScheduling-Dauer: {int(solver_duration // 60)} Minuten und {(solver_duration % 60):.2f} Sekunden.\")\n",
    "df_plan"
   ],
   "id": "b975b99a32e0c9"
  },
  {
   "metadata": {},
   "cell_type": "code",
   "outputs": [],
   "execution_count": null,
   "source": [
    "show.plot_gantt_machines(df_plan)\n",
    "\n",
    "check.is_machine_conflict_free(df_plan)\n",
    "check.is_operation_sequence_correct(df_plan)\n",
    "check.is_job_timing_correct(df_plan)\n",
    "check.is_start_correct(df_plan)"
   ],
   "id": "f867fe992cdec24b"
  },
  {
   "metadata": {},
   "cell_type": "markdown",
   "source": "## II) Erster Tag (Tag 0)",
   "id": "628c010bd6aceaa4"
  },
  {
   "metadata": {},
   "cell_type": "markdown",
   "source": "### a) Simulation",
   "id": "29de6b6f5fdb1216"
  },
  {
   "metadata": {},
   "cell_type": "code",
   "outputs": [],
   "execution_count": null,
   "source": "day_length = 1440",
   "id": "2a70923e32295fbf"
  },
  {
   "metadata": {},
   "cell_type": "code",
   "outputs": [],
   "execution_count": null,
   "source": [
    "day_numb = 0\n",
    "\n",
    "day_start = day_length*day_numb \n",
    "day_end = day_start + day_length"
   ],
   "id": "54f933a8dad88ea0"
  },
  {
   "metadata": {},
   "cell_type": "code",
   "outputs": [],
   "execution_count": null,
   "source": [
    "simulation = ProductionDaySimulation(df_plan, vc=0.35)\n",
    "df_execution, df_undone = simulation.run(start_time = day_start, end_time=day_end)"
   ],
   "id": "2d47fad8a87cd228"
  },
  {
   "metadata": {},
   "cell_type": "code",
   "outputs": [],
   "execution_count": null,
   "source": "df_undone",
   "id": "865c984ef6606386"
  },
  {
   "metadata": {},
   "cell_type": "code",
   "outputs": [],
   "execution_count": null,
   "source": [
    "if not df_execution.empty:\n",
    "    show.plot_gantt_machines(df_execution, title=f\"Gantt-Diagramm ab Tag {day_numb}\", duration_column=\"Simulated Processing Time\")\n",
    "else:\n",
    "    print(f\"Nothing executed on day {day_numb}\")"
   ],
   "id": "fc08c795b3652d8c"
  },
  {
   "metadata": {},
   "cell_type": "markdown",
   "source": "### b) Verbleibene Jobs (Rest)",
   "id": "98fbaa17b09479f"
  },
  {
   "metadata": {},
   "cell_type": "code",
   "outputs": [],
   "execution_count": null,
   "source": [
    "df_rest = df_plan.merge(df_execution[[\"Job\", \"Machine\"]], on=[\"Job\", \"Machine\"], how=\"left\", indicator=True)\n",
    "df_rest = df_rest[df_rest[\"_merge\"] == \"left_only\"].drop(columns=[\"_merge\"])\n",
    "df_rest = df_rest.sort_values(by=[\"Arrival\", \"Start\"]).reset_index(drop=True)\n",
    "df_rest"
   ],
   "id": "3a6ba2a35f10ef4a"
  },
  {
   "metadata": {},
   "cell_type": "code",
   "outputs": [],
   "execution_count": null,
   "source": [
    "allowed = df_rest[\"Job\"].unique() \n",
    "df_time_rest = df_times[df_times[\"Job\"].isin(allowed)].copy()\n",
    "df_time_rest"
   ],
   "id": "1b8137394538c681"
  },
  {
   "metadata": {},
   "cell_type": "markdown",
   "source": [
    "## III) Rescheduling\n",
    "> vereinfacht, ohne neu Aufträge (nur der Rest)"
   ],
   "id": "14248e58beedb4b7"
  },
  {
   "metadata": {},
   "cell_type": "code",
   "outputs": [],
   "execution_count": null,
   "source": [
    "# Reduktion der bereits ausgeführten Operationen auf die relevanten für die nächsten Tage\n",
    "df_execution_important = df_execution[df_execution[\"End\"] >= 1440]\n",
    "df_execution_important"
   ],
   "id": "7961e5d3a98a0d15"
  },
  {
   "metadata": {},
   "cell_type": "code",
   "outputs": [],
   "execution_count": null,
   "source": [
    "from ortools.sat.python import cp_model\n",
    "import pandas as pd\n",
    "import math\n",
    "\n",
    "def solve_cp_jssp_lateness_by_tardiness_and_earliness_with_fixed_ops(\n",
    "    df_jssp: pd.DataFrame,\n",
    "    df_arrivals_deadlines: pd.DataFrame,\n",
    "    df_executed: pd.DataFrame,\n",
    "    w_t: int = 5,\n",
    "    w_e: int = 1,\n",
    "    reschedule_start: float = 1440.0,\n",
    "    sort_ascending: bool = False,\n",
    "    msg: bool = False,\n",
    "    timeLimit: int = 3600,\n",
    "    gapRel: float = 0.0\n",
    ") -> pd.DataFrame:\n",
    "    model = cp_model.CpModel()\n",
    "\n",
    "    # Sicherstellen, dass die Gewichte ganzzahlig sind (CP-SAT Voraussetzung)\n",
    "    w_t = int(w_t)\n",
    "    w_e = int(w_e)\n",
    "\n",
    "    # === Vorbereitung: Jobliste, Ankünfte und Deadlines ===\n",
    "    df_arrivals_deadlines = df_arrivals_deadlines.sort_values(\"Deadline\", ascending=sort_ascending).reset_index(drop=True)\n",
    "    arrival = df_arrivals_deadlines.set_index(\"Job\")[\"Arrival\"].to_dict()\n",
    "    deadline = df_arrivals_deadlines.set_index(\"Job\")[\"Deadline\"].to_dict()\n",
    "    jobs = df_arrivals_deadlines[\"Job\"].tolist()\n",
    "\n",
    "    # === Operationen je Job gruppieren ===\n",
    "    ops_grouped = df_jssp.sort_values([\"Job\", \"Operation\"]).groupby(\"Job\")\n",
    "    all_ops, machines = [], set()\n",
    "    for job in jobs:\n",
    "        seq = []\n",
    "        for _, row in ops_grouped.get_group(job).iterrows():\n",
    "            op_id = int(row[\"Operation\"])\n",
    "            m = str(row[\"Machine\"])\n",
    "            d = int(round(row[\"Processing Time\"]))\n",
    "            seq.append((op_id, m, d))\n",
    "            machines.add(m)\n",
    "        all_ops.append(seq)\n",
    "\n",
    "    # === Grober Planungshorizont (für obere Schranken) ===\n",
    "    horizon = int(df_jssp[\"Processing Time\"].sum() + max(deadline.values()))\n",
    "\n",
    "    # === Fest eingeplante Operationen, die beim Rescheduling nicht verändert werden dürfen ===\n",
    "    df_executed_fixed = df_executed[df_executed[\"End\"] >= reschedule_start]\n",
    "    fixed_ops = {\n",
    "        m: list(grp[[\"Start\", \"End\"]].itertuples(index=False, name=None))\n",
    "        for m, grp in df_executed_fixed.groupby(\"Machine\")\n",
    "    }\n",
    "\n",
    "    # === Variablen definieren ===\n",
    "    starts, ends, intervals = {}, {}, {}\n",
    "    weighted_terms = []\n",
    "\n",
    "    for j, job in enumerate(jobs):\n",
    "        for o, (op_id, m, d) in enumerate(all_ops[j]):\n",
    "            suffix = f\"{j}_{o}\"\n",
    "            start = model.NewIntVar(0, horizon, f\"start_{suffix}\")\n",
    "            end = model.NewIntVar(0, horizon, f\"end_{suffix}\")\n",
    "            interval = model.NewIntervalVar(start, d, end, f\"interval_{suffix}\")\n",
    "            starts[(j, o)] = start\n",
    "            ends[(j, o)] = end\n",
    "            intervals[(j, o)] = (interval, m)\n",
    "\n",
    "    # === Zielfunktion: gewichtete Tardiness + Earliness ===\n",
    "    for j, job in enumerate(jobs):\n",
    "        last_op_index = len(all_ops[j]) - 1\n",
    "        job_end = ends[(j, last_op_index)]\n",
    "\n",
    "        # Lateness = tatsächliches Ende – Deadline\n",
    "        lateness = model.NewIntVar(-horizon, horizon, f\"lateness_{j}\")\n",
    "        model.Add(lateness == job_end - deadline[job])\n",
    "\n",
    "        # Tardiness = max(0, Lateness)\n",
    "        tardiness = model.NewIntVar(0, horizon, f\"tardiness_{j}\")\n",
    "        model.AddMaxEquality(tardiness, [lateness, 0])\n",
    "        term_tardiness = model.NewIntVar(0, horizon * w_t, f\"term_tardiness_{j}\")\n",
    "        model.Add(term_tardiness == w_t * tardiness)\n",
    "        weighted_terms.append(term_tardiness)\n",
    "\n",
    "        # Earliness = max(0, -Lateness)\n",
    "        earliness = model.NewIntVar(0, horizon, f\"earliness_{j}\")\n",
    "        model.AddMaxEquality(earliness, [-lateness, 0])\n",
    "        term_earliness = model.NewIntVar(0, horizon * w_e, f\"term_earliness_{j}\")\n",
    "        model.Add(term_earliness == w_e * earliness)\n",
    "        weighted_terms.append(term_earliness)\n",
    "\n",
    "        # Ankunftsbedingung + Rescheduling-Startzeit\n",
    "        model.Add(starts[(j, 0)] >= arrival[job])\n",
    "        model.Add(starts[(j, 0)] >= int(reschedule_start))\n",
    "\n",
    "        # Falls vorherige Operationen des Jobs bereits geplant wurden\n",
    "        if job in df_executed[\"Job\"].values:\n",
    "            last_fixed_end = df_executed[df_executed[\"Job\"] == job][\"End\"].max()\n",
    "            model.Add(starts[(j, 0)] >= int(math.ceil(last_fixed_end)))\n",
    "\n",
    "        # Technologische Reihenfolge einhalten\n",
    "        for o in range(1, len(all_ops[j])):\n",
    "            model.Add(starts[(j, o)] >= ends[(j, o - 1)])\n",
    "\n",
    "    # === Maschinenrestriktionen: Keine Überlappungen, auch mit fixen Intervallen ===\n",
    "    for m in machines:\n",
    "        machine_intervals = [interval for (j, o), (interval, mach) in intervals.items() if mach == m]\n",
    "\n",
    "        for fixed_start, fixed_end in fixed_ops.get(m, []):\n",
    "            start = math.floor(fixed_start)\n",
    "            end = math.ceil(fixed_end)\n",
    "            duration = end - start\n",
    "            fixed_interval = model.NewIntervalVar(start, duration, end, f\"fixed_{m}_{end}\")\n",
    "            machine_intervals.append(fixed_interval)\n",
    "\n",
    "        model.AddNoOverlap(machine_intervals)\n",
    "\n",
    "    # === Zielfunktion: Summe der gewichteten Tardiness- und Earliness-Werte minimieren ===\n",
    "    model.Minimize(sum(weighted_terms))\n",
    "\n",
    "    # === Solver-Konfiguration ===\n",
    "    solver = cp_model.CpSolver()\n",
    "    solver.parameters.log_search_progress = msg\n",
    "    solver.parameters.relative_gap_limit = gapRel\n",
    "    solver.parameters.max_time_in_seconds = timeLimit\n",
    "    status = solver.Solve(model)\n",
    "\n",
    "    # === Lösung extrahieren ===\n",
    "    records = []\n",
    "    if status in [cp_model.OPTIMAL, cp_model.FEASIBLE]:\n",
    "        for j, job in enumerate(jobs):\n",
    "            for o, (op_id, m, d) in enumerate(all_ops[j]):\n",
    "                st = solver.Value(starts[(j, o)])\n",
    "                ed = st + d\n",
    "                lateness_val = ed - deadline[job]\n",
    "                records.append({\n",
    "                    \"Job\": job,\n",
    "                    \"Operation\": op_id,\n",
    "                    \"Arrival\": arrival[job],\n",
    "                    \"Deadline\": deadline[job],\n",
    "                    \"Machine\": m,\n",
    "                    \"Start\": st,\n",
    "                    \"Processing Time\": d,\n",
    "                    \"End\": ed,\n",
    "                    \"Lateness\": lateness_val,\n",
    "                    \"Tardiness\": max(0, lateness_val),\n",
    "                    \"Earliness\": max(0, -lateness_val)\n",
    "                })\n",
    "\n",
    "        df_schedule = pd.DataFrame.from_records(records).sort_values([\"Start\", \"Job\", \"Operation\"]).reset_index(drop=True)\n",
    "    else:\n",
    "        print(f\"\\nSolver-Status         : {solver.StatusName(status)}\")\n",
    "        print(\"No feasible solution found!\")\n",
    "        df_schedule = pd.DataFrame()\n",
    "\n",
    "    # === Logging ===\n",
    "    print(f\"\\nSolver-Status         : {solver.StatusName(status)}\")\n",
    "    print(f\"Objective Value       : {solver.ObjectiveValue():.2f}\")\n",
    "    print(f\"Best Objective Bound  : {solver.BestObjectiveBound():.2f}\")\n",
    "    print(f\"Laufzeit              : {solver.WallTime():.2f} Sekunden\")\n",
    "\n",
    "    return df_schedule\n",
    "\n"
   ],
   "id": "bb1de04cbfd3dbf9"
  },
  {
   "metadata": {},
   "cell_type": "code",
   "outputs": [],
   "execution_count": null,
   "source": [
    "starting_time = time.time()\n",
    "df_reschedule = solve_cp_jssp_lateness_by_tardiness_and_earliness_with_fixed_ops(df_rest, df_time_rest, df_execution_important,\n",
    "                                                                                 w_t = 5,\n",
    "                                                                                 reschedule_start = 1440, msg=False, timeLimit=max_time, gapRel= 0)\n",
    "# Informationen\n",
    "ending_time = time.time()\n",
    "solver_duration = ending_time - starting_time\n",
    "print(f\"\\nScheduling-Dauer: {int(solver_duration // 60)} Minuten und {(solver_duration % 60):.2f} Sekunden.\")\n",
    "df_reschedule"
   ],
   "id": "71a698b9768002c9"
  },
  {
   "metadata": {},
   "cell_type": "code",
   "outputs": [],
   "execution_count": null,
   "source": [
    "show.plot_gantt_machines(df_reschedule)\n",
    "check.is_machine_conflict_free(df_reschedule)\n",
    "check.is_operation_sequence_correct(df_reschedule)\n",
    "check.is_job_timing_correct(df_reschedule)\n",
    "check.is_start_correct(df_reschedule)"
   ],
   "id": "d54c59129c8bf220"
  },
  {
   "metadata": {},
   "cell_type": "code",
   "outputs": [],
   "execution_count": null,
   "source": [
    "last_ops = df_reschedule.sort_values(['Job', 'Operation']).drop_duplicates('Job', keep='last')\n",
    "show.count_column_grouped(last_ops, \"Lateness\", max_val = 180, steps= 60)"
   ],
   "id": "d613e12ac2643f1e"
  },
  {
   "metadata": {},
   "cell_type": "markdown",
   "source": "### Combi aus Simulation und Neuplannung",
   "id": "65543ba776ec92ac"
  },
  {
   "metadata": {},
   "cell_type": "code",
   "outputs": [],
   "execution_count": null,
   "source": [
    "# Relevante Spalten\n",
    "columns_needed = [\"Job\", \"Operation\", \"Arrival\", \"Machine\", \"Start\", \"Processing Time\", \"End\"]\n",
    "\n",
    "# Spalte in df_execution umbenennen\n",
    "df_execution_important_renamed = df_execution.rename(columns={\"Simulated Processing Time\": \"Processing Time\"})\n",
    "\n",
    "# Auf die gewünschten Spalten beschränken\n",
    "df_exec_trimmed = df_execution_important_renamed[columns_needed]\n",
    "df_resched_trimmed = df_reschedule[columns_needed]\n",
    "\n",
    "# DataFrames zusammenführen\n",
    "df_combined = pd.concat([df_exec_trimmed, df_resched_trimmed], ignore_index=True)\n",
    "df_combined"
   ],
   "id": "b01494dfa39197f8"
  },
  {
   "metadata": {},
   "cell_type": "code",
   "outputs": [],
   "execution_count": null,
   "source": [
    "show.plot_gantt_machines(df_combined)\n",
    "check.is_machine_conflict_free(df_combined)\n",
    "check.is_operation_sequence_correct(df_combined)\n",
    "check.is_job_timing_correct(df_combined)\n",
    "check.is_start_correct(df_combined)"
   ],
   "id": "f42c27a4a1a70039"
  },
  {
   "metadata": {},
   "cell_type": "code",
   "outputs": [],
   "execution_count": null,
   "source": "",
   "id": "370f52f454b241b3"
  }
 ],
 "metadata": {
  "kernelspec": {
   "display_name": "Python [conda env:base] *",
   "language": "python",
   "name": "conda-base-py"
  },
  "language_info": {
   "codemirror_mode": {
    "name": "ipython",
    "version": 3
   },
   "file_extension": ".py",
   "mimetype": "text/x-python",
   "name": "python",
   "nbconvert_exporter": "python",
   "pygments_lexer": "ipython3",
   "version": "3.12.9"
  }
 },
 "nbformat": 4,
 "nbformat_minor": 5
}
