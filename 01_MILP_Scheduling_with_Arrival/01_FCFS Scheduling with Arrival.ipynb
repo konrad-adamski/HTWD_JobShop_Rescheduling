{
 "cells": [
  {
   "metadata": {},
   "cell_type": "markdown",
   "source": "# FCFS-Scheduling ",
   "id": "5780995c3a462a18"
  },
  {
   "metadata": {},
   "cell_type": "code",
   "outputs": [],
   "execution_count": null,
   "source": [
    "import pandas as pd\n",
    "from collections import defaultdict"
   ],
   "id": "aa0a9fb43d590db0"
  },
  {
   "metadata": {},
   "cell_type": "code",
   "outputs": [],
   "execution_count": null,
   "source": [
    "import utils.presenter as show\n",
    "import utils.checker as check"
   ],
   "id": "dbfa59b4aa627bed"
  },
  {
   "metadata": {},
   "cell_type": "code",
   "outputs": [],
   "execution_count": null,
   "source": [
    "df_jssp = pd.read_csv(\"data/00_instance.csv\")\n",
    "df_jssp"
   ],
   "id": "8f49f1ac01b2b57e"
  },
  {
   "metadata": {},
   "cell_type": "code",
   "outputs": [],
   "execution_count": null,
   "source": [
    "df_times = pd.read_csv(\"data/00_arrivals.csv\")\n",
    "df_times "
   ],
   "id": "969d10a2a624e629"
  },
  {
   "metadata": {},
   "cell_type": "code",
   "outputs": [],
   "execution_count": null,
   "source": [
    "from collections import defaultdict\n",
    "import pandas as pd\n",
    "\n",
    "def schedule_fcfs_with_arrivals(df_jssp: pd.DataFrame, arrival_df: pd.DataFrame) -> pd.DataFrame:\n",
    "    \"\"\"\n",
    "    FCFS-Scheduling mit Job-Ankunftszeiten – optimierte Version.\n",
    "\n",
    "    Parameter:\n",
    "    - df_jssp: DataFrame mit ['Job','Operation','Machine','Processing Time'].\n",
    "    - arrival_df: DataFrame mit ['Job','Arrival'].\n",
    "    \"\"\"\n",
    "    # Arrival-Zeiten als Dict\n",
    "    arrival = arrival_df.set_index('Job')['Arrival'].to_dict()\n",
    "\n",
    "    # Preprocessing: Operationen als Dict (Job, Operation) → Row\n",
    "    ops_dict = {(row['Job'], row['Operation']): row for _, row in df_jssp.iterrows()}\n",
    "\n",
    "    # Status-Tracker\n",
    "    next_op = {job: 0 for job in df_jssp['Job'].unique()}\n",
    "    job_ready = arrival.copy()\n",
    "    machine_ready = defaultdict(float)\n",
    "    remaining = len(df_jssp)\n",
    "\n",
    "    schedule = []\n",
    "    while remaining > 0:\n",
    "        best = None  # (job, start, dur, machine, op_idx)\n",
    "\n",
    "        # Suche FCFS-geeignete Operation\n",
    "        for job, op_idx in next_op.items():\n",
    "            if (job, op_idx) not in ops_dict:\n",
    "                continue\n",
    "            row = ops_dict[(job, op_idx)]\n",
    "            m = int(row['Machine'].lstrip('M'))  # optional: in ops_dict vorverarbeiten\n",
    "            dur = row['Processing Time']\n",
    "            earliest = max(job_ready[job], machine_ready[m])\n",
    "            if (best is None or\n",
    "                earliest < best[1] or\n",
    "                (earliest == best[1] and arrival[job] < arrival[best[0]])):\n",
    "                best = (job, earliest, dur, m, op_idx)\n",
    "\n",
    "        job, start, dur, m, op_idx = best\n",
    "        end = start + dur\n",
    "        schedule.append({\n",
    "            'Job': job,\n",
    "            'Operation': op_idx,\n",
    "            'Arrival': arrival[job],\n",
    "            'Machine': f'M{m}',\n",
    "            'Start': start,\n",
    "            'Processing Time': dur,\n",
    "            'End': end\n",
    "        })\n",
    "        job_ready[job] = end\n",
    "        machine_ready[m] = end\n",
    "        next_op[job] += 1\n",
    "        remaining -= 1\n",
    "\n",
    "    df_schedule = pd.DataFrame(schedule)\n",
    "    return df_schedule.sort_values(['Arrival', 'Start']).reset_index(drop=True)\n"
   ],
   "id": "932d12e8315d62c1"
  },
  {
   "metadata": {},
   "cell_type": "code",
   "outputs": [],
   "execution_count": null,
   "source": [
    "df_plan = schedule_fcfs_with_arrivals(df_jssp, df_times)\n",
    "df_plan"
   ],
   "id": "9b8e66e85077bdb7"
  },
  {
   "metadata": {},
   "cell_type": "code",
   "outputs": [],
   "execution_count": null,
   "source": "show.plot_gantt_jobs(df_plan)",
   "id": "d35d9ecbd0ec1fe5"
  },
  {
   "metadata": {},
   "cell_type": "code",
   "outputs": [],
   "execution_count": null,
   "source": "show.plot_gantt_machines(df_plan)",
   "id": "6ac3cd40c968104b"
  },
  {
   "metadata": {},
   "cell_type": "code",
   "outputs": [],
   "execution_count": null,
   "source": [
    "check.is_machine_conflict_free(df_plan)\n",
    "check.is_operation_sequence_correct(df_plan)\n",
    "check.is_job_timing_correct(df_plan)\n",
    "check.is_start_correct(df_plan)"
   ],
   "id": "7ff7b8f21436a679"
  }
 ],
 "metadata": {
  "kernelspec": {
   "display_name": "Python [conda env:base] *",
   "language": "python",
   "name": "conda-base-py"
  },
  "language_info": {
   "codemirror_mode": {
    "name": "ipython",
    "version": 3
   },
   "file_extension": ".py",
   "mimetype": "text/x-python",
   "name": "python",
   "nbconvert_exporter": "python",
   "pygments_lexer": "ipython3",
   "version": "3.12.9"
  }
 },
 "nbformat": 4,
 "nbformat_minor": 5
}
