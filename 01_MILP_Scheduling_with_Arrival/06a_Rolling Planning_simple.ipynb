{
 "cells": [
  {
   "cell_type": "markdown",
   "id": "d73a6a9f-87d2-47fc-8f69-025505dae28e",
   "metadata": {},
   "source": [
    "# Rolling Planning mit Flow Time"
   ]
  },
  {
   "cell_type": "code",
   "execution_count": 2,
   "id": "d5f729b7-1f20-451e-a928-6b13d0faed0f",
   "metadata": {},
   "outputs": [],
   "source": [
    "import pandas as pd\n",
    "import time\n",
    "pd.set_option('display.max_rows', 20)"
   ]
  },
  {
   "cell_type": "code",
   "execution_count": 4,
   "id": "3f991dc0-f230-4385-9d3d-1235b1a1a58f",
   "metadata": {},
   "outputs": [],
   "source": [
    "import utils.presenter as show\n",
    "import utils.checker as check\n",
    "\n",
    "import utils.rescheduling_solver as rssv\n",
    "\n",
    "from ProductionDaySimulation import ProductionDaySimulation"
   ]
  },
  {
   "cell_type": "code",
   "execution_count": 6,
   "id": "bea62a07-86f5-4de0-acae-8ced3d415d90",
   "metadata": {},
   "outputs": [],
   "source": [
    "import utils.rolling_planning.init_jobs_times as rp_init\n",
    "import utils.rolling_planning.procedure as rp_proced"
   ]
  },
  {
   "cell_type": "markdown",
   "id": "a6a0410e-32c3-47f8-9444-33108a0d3cc7",
   "metadata": {},
   "source": [
    "## Laden der Initialisierungsdaten"
   ]
  },
  {
   "cell_type": "code",
   "execution_count": null,
   "id": "24d6b2f3-4137-48d7-83a4-d688df4306db",
   "metadata": {},
   "outputs": [],
   "source": [
    "df_jssp = pd.read_csv(\"data/05_flowtime_all_jssp.csv\")\n",
    "df_times = pd.read_csv(\"data/05_flowtime_all_times.csv\")"
   ]
  },
  {
   "cell_type": "markdown",
   "id": "c724f155-6930-4f4d-86c7-1c4945a8ef76",
   "metadata": {},
   "source": [
    "### Tag 0 "
   ]
  },
  {
   "cell_type": "code",
   "execution_count": null,
   "id": "490dcbe4-b173-4e2c-bc31-a2f3ca3db863",
   "metadata": {},
   "outputs": [],
   "source": [
    "df_plan = pd.read_csv(\"data/05_flowtime_init_plan.csv\")\n",
    "df_execution = pd.read_csv(\"data/05_flowtime_init_execution.csv\")\n",
    "df_undone = pd.read_csv(\"data/05_flowtime_init_undone.csv\")"
   ]
  },
  {
   "cell_type": "markdown",
   "id": "af2c2bd3-b17b-4a3d-89c9-45caaa2c0abd",
   "metadata": {},
   "source": [
    "### Settings"
   ]
  },
  {
   "cell_type": "code",
   "execution_count": null,
   "id": "3372a48f-144a-46f9-bb2a-ddf449f688a3",
   "metadata": {},
   "outputs": [],
   "source": [
    "max_time = 60*60*6 # 6h"
   ]
  },
  {
   "cell_type": "code",
   "execution_count": 42,
   "id": "6b68264c-dbc9-4d94-ad26-e0b2842dcb59",
   "metadata": {},
   "outputs": [],
   "source": [
    "def get_schedule_filename(prefix: str = \"\", day: int = 0, data_txt: str = \"schedule\", suffix: str = \"\") -> str:\n",
    "    file_template = \"data/{prefix}_{data}_{day:02d}{suffix}.csv\"\n",
    "    if suffix:\n",
    "        suffix = f\"_{suffix}\"\n",
    "    return file_template.format(prefix=prefix,data=data_txt,day=day, suffix=suffix)"
   ]
  },
  {
   "cell_type": "markdown",
   "id": "afcfa329-fb5d-481a-a295-b75163d9a154",
   "metadata": {},
   "source": [
    "## Params"
   ]
  },
  {
   "cell_type": "code",
   "execution_count": null,
   "id": "b75e3d2a-2b67-4cc3-ae84-b969f4384475",
   "metadata": {},
   "outputs": [],
   "source": [
    "# fix\n",
    "day_length = 1440\n",
    "horizon_days = 3\n",
    "\n",
    "notebook_prefix = \"6a\""
   ]
  },
  {
   "cell_type": "markdown",
   "id": "f2308d11-b686-47d4-a2ee-473b15f451dc",
   "metadata": {},
   "source": [
    "#### Rescheduling für Tage 1-5\n",
    "- Tag 1: Ankunfttermine in [1, 2, 3] + unabgeschlosse von Vortagen (evtl. Tag 0)\n",
    "- Tag 2: Ankunfttermine in [2, 3, 4] + unabgeschlosse von Vortagen (evtl. Tag 0 \"oder\" Tag 1)\n",
    "- ...\n",
    "- Tag 5: Ankunfttermine in [5, 6, 7] + unabgeschlosse von Vortagen"
   ]
  },
  {
   "cell_type": "code",
   "execution_count": 36,
   "id": "776fc4a8-6f31-4d69-88da-14cdbc2cf517",
   "metadata": {},
   "outputs": [],
   "source": [
    "first_start = 1\n",
    "last_planning_start = 5"
   ]
  },
  {
   "cell_type": "code",
   "execution_count": null,
   "id": "6bb862a8-906f-4015-89d8-972510aaf186",
   "metadata": {},
   "outputs": [],
   "source": [
    "for day_numb in range(first_start, last_planning_start + 1):\n",
    "    day_start = day_length * day_numb\n",
    "    day_end = day_start + day_length\n",
    "    planning_end = day_start + horizon_days * day_length\n",
    "\n",
    "    # ------------------- I. Ankunfts- und Operationsvorbereitung -------------------\n",
    "    df_jssp_curr, df_times_curr = rp_proced.filter_jobs_by_arrival_window(df_times, df_jssp, day_start, planning_end)\n",
    "    df_jssp_curr = rp_proced.extend_with_undone_operations(df_jssp_curr, df_undone)\n",
    "    df_times_curr = rp_proced.update_times_after_operation_changes(df_times, df_jssp_curr)\n",
    "\n",
    "    # ------------------- II. Relevante laufende Operationen -------------------------\n",
    "    df_execution_important = rp_proced.get_operations_running_into_day(df_execution, day_start)\n",
    "\n",
    "    # ------------------- III. Rescheduling durchführen -------------------------------\n",
    "\n",
    "    starting_time = time.time()\n",
    "    df_plan = rssv.solve_jssp_individual_flowtime_with_fixed_ops(df_jssp_curr, df_times_curr, df_execution_important,\n",
    "                                                                   reschedule_start = day_start,\n",
    "                                                                   solver= \"HiGHS\", msg=False, timeLimit=max_time, gapRel= 0.05)\n",
    "    solver_duration = time.time() - starting_time\n",
    "    print(f\"\\n  Scheduling-Dauer: {int(solver_duration // 60)} Minuten und {(solver_duration % 60):.2f} Sekunden.\")\n",
    "\n",
    "    df_plan.to_csv(get_schedule_filename(notebook_prefix, day=day_numb), index=False)\n",
    "\n",
    "    show.plot_gantt_machines(df_plan, title=f\"Gantt-Diagramm ab Tag {day_numb}\")\n",
    "    check.check_constraints(df_plan)\n",
    "\n",
    "    # ------------------- IV. Einen Tag simulieren -------------------------------------\n",
    "\n",
    "    simulation = ProductionDaySimulation(df_plan, vc=vc)\n",
    "    df_execution, df_undone = simulation.run(start_time=day_start, end_time=day_end)\n",
    "    if not df_execution.empty:\n",
    "        if plot_results:\n",
    "            show.plot_gantt_machines(df_execution, title=f\"Gantt-Diagramm für Simulationstag {day_numb}\", duration_column=\"Simulated Processing Time\")\n",
    "    else:\n",
    "        print(f\"Nothing executed on day {day_numb}\")\n",
    "    \n"
   ]
  }
 ],
 "metadata": {
  "kernelspec": {
   "display_name": "Python [conda env:base] *",
   "language": "python",
   "name": "conda-base-py"
  },
  "language_info": {
   "codemirror_mode": {
    "name": "ipython",
    "version": 3
   },
   "file_extension": ".py",
   "mimetype": "text/x-python",
   "name": "python",
   "nbconvert_exporter": "python",
   "pygments_lexer": "ipython3",
   "version": "3.12.9"
  }
 },
 "nbformat": 4,
 "nbformat_minor": 5
}
