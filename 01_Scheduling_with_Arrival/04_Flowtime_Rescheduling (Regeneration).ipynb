{
 "cells": [
  {
   "cell_type": "markdown",
   "id": "53c73a85-6ed9-4164-8069-6dd08b733ae5",
   "metadata": {},
   "source": [
    "# Rescheduling mit Flow Time\n",
    "> Planunghorizont Tag 0: 2 Tage\n",
    "> Rescheduling des Tages 1"
   ]
  },
  {
   "cell_type": "code",
   "execution_count": 52,
   "id": "43a0dd27-a517-4bb7-893b-bedb4ce63cf6",
   "metadata": {},
   "outputs": [],
   "source": [
    "import time"
   ]
  },
  {
   "cell_type": "code",
   "execution_count": 54,
   "id": "98863c80-f6a0-4e68-8f51-08e8ffd8b964",
   "metadata": {},
   "outputs": [],
   "source": [
    "import pandas as pd\n",
    "import pulp\n",
    "import math\n",
    "import re\n",
    "\n",
    "\n",
    "pd.set_option('display.max_rows', 20)"
   ]
  },
  {
   "cell_type": "code",
   "execution_count": 56,
   "id": "7067a8a9-db76-4a88-9189-75a46d34b461",
   "metadata": {},
   "outputs": [],
   "source": [
    "import utils.presenter as show\n",
    "import utils.checker as check\n",
    "\n",
    "import utils.schedule_interarrival as sit\n",
    "import utils.scheduling_solver as ssv\n",
    "import utils.rescheduling_solver as rssv\n",
    "\n",
    "from ProductionDaySimulation import ProductionDaySimulation"
   ]
  },
  {
   "cell_type": "code",
   "execution_count": 30,
   "id": "812d02e5-94c8-4889-b25f-46912dc25482",
   "metadata": {},
   "outputs": [],
   "source": [
    "import utils.rolling_planning.init_jobs_times as rp_init\n",
    "import utils.rolling_planning.procedure as rp_proced"
   ]
  },
  {
   "cell_type": "code",
   "execution_count": 32,
   "id": "831e8968-45e3-4d89-a69c-31c64b32ead9",
   "metadata": {},
   "outputs": [
    {
     "data": {
      "text/html": [
       "<div>\n",
       "<style scoped>\n",
       "    .dataframe tbody tr th:only-of-type {\n",
       "        vertical-align: middle;\n",
       "    }\n",
       "\n",
       "    .dataframe tbody tr th {\n",
       "        vertical-align: top;\n",
       "    }\n",
       "\n",
       "    .dataframe thead th {\n",
       "        text-align: right;\n",
       "    }\n",
       "</style>\n",
       "<table border=\"1\" class=\"dataframe\">\n",
       "  <thead>\n",
       "    <tr style=\"text-align: right;\">\n",
       "      <th></th>\n",
       "      <th>Job</th>\n",
       "      <th>Operation</th>\n",
       "      <th>Machine</th>\n",
       "      <th>Processing Time</th>\n",
       "    </tr>\n",
       "  </thead>\n",
       "  <tbody>\n",
       "    <tr>\n",
       "      <th>0</th>\n",
       "      <td>job 0</td>\n",
       "      <td>0</td>\n",
       "      <td>M0</td>\n",
       "      <td>29</td>\n",
       "    </tr>\n",
       "    <tr>\n",
       "      <th>1</th>\n",
       "      <td>job 0</td>\n",
       "      <td>1</td>\n",
       "      <td>M1</td>\n",
       "      <td>78</td>\n",
       "    </tr>\n",
       "    <tr>\n",
       "      <th>2</th>\n",
       "      <td>job 0</td>\n",
       "      <td>2</td>\n",
       "      <td>M2</td>\n",
       "      <td>9</td>\n",
       "    </tr>\n",
       "    <tr>\n",
       "      <th>3</th>\n",
       "      <td>job 0</td>\n",
       "      <td>3</td>\n",
       "      <td>M3</td>\n",
       "      <td>36</td>\n",
       "    </tr>\n",
       "    <tr>\n",
       "      <th>4</th>\n",
       "      <td>job 0</td>\n",
       "      <td>4</td>\n",
       "      <td>M4</td>\n",
       "      <td>49</td>\n",
       "    </tr>\n",
       "    <tr>\n",
       "      <th>...</th>\n",
       "      <td>...</td>\n",
       "      <td>...</td>\n",
       "      <td>...</td>\n",
       "      <td>...</td>\n",
       "    </tr>\n",
       "    <tr>\n",
       "      <th>95</th>\n",
       "      <td>job 9</td>\n",
       "      <td>5</td>\n",
       "      <td>M9</td>\n",
       "      <td>76</td>\n",
       "    </tr>\n",
       "    <tr>\n",
       "      <th>96</th>\n",
       "      <td>job 9</td>\n",
       "      <td>6</td>\n",
       "      <td>M5</td>\n",
       "      <td>47</td>\n",
       "    </tr>\n",
       "    <tr>\n",
       "      <th>97</th>\n",
       "      <td>job 9</td>\n",
       "      <td>7</td>\n",
       "      <td>M3</td>\n",
       "      <td>52</td>\n",
       "    </tr>\n",
       "    <tr>\n",
       "      <th>98</th>\n",
       "      <td>job 9</td>\n",
       "      <td>8</td>\n",
       "      <td>M4</td>\n",
       "      <td>90</td>\n",
       "    </tr>\n",
       "    <tr>\n",
       "      <th>99</th>\n",
       "      <td>job 9</td>\n",
       "      <td>9</td>\n",
       "      <td>M7</td>\n",
       "      <td>45</td>\n",
       "    </tr>\n",
       "  </tbody>\n",
       "</table>\n",
       "<p>100 rows × 4 columns</p>\n",
       "</div>"
      ],
      "text/plain": [
       "      Job  Operation Machine  Processing Time\n",
       "0   job 0          0      M0               29\n",
       "1   job 0          1      M1               78\n",
       "2   job 0          2      M2                9\n",
       "3   job 0          3      M3               36\n",
       "4   job 0          4      M4               49\n",
       "..    ...        ...     ...              ...\n",
       "95  job 9          5      M9               76\n",
       "96  job 9          6      M5               47\n",
       "97  job 9          7      M3               52\n",
       "98  job 9          8      M4               90\n",
       "99  job 9          9      M7               45\n",
       "\n",
       "[100 rows x 4 columns]"
      ]
     },
     "execution_count": 32,
     "metadata": {},
     "output_type": "execute_result"
    }
   ],
   "source": [
    "df_instance = pd.read_csv(\"data/00_instance.csv\")\n",
    "df_instance"
   ]
  },
  {
   "cell_type": "code",
   "execution_count": 34,
   "id": "cc8750eb-a2c3-4ef8-a4ce-0b980a7b7a93",
   "metadata": {},
   "outputs": [
    {
     "data": {
      "text/html": [
       "<div>\n",
       "<style scoped>\n",
       "    .dataframe tbody tr th:only-of-type {\n",
       "        vertical-align: middle;\n",
       "    }\n",
       "\n",
       "    .dataframe tbody tr th {\n",
       "        vertical-align: top;\n",
       "    }\n",
       "\n",
       "    .dataframe thead th {\n",
       "        text-align: right;\n",
       "    }\n",
       "</style>\n",
       "<table border=\"1\" class=\"dataframe\">\n",
       "  <thead>\n",
       "    <tr style=\"text-align: right;\">\n",
       "      <th></th>\n",
       "      <th>Job</th>\n",
       "      <th>Operation</th>\n",
       "      <th>Machine</th>\n",
       "      <th>Processing Time</th>\n",
       "    </tr>\n",
       "  </thead>\n",
       "  <tbody>\n",
       "    <tr>\n",
       "      <th>0</th>\n",
       "      <td>Job_000</td>\n",
       "      <td>0</td>\n",
       "      <td>M0</td>\n",
       "      <td>29</td>\n",
       "    </tr>\n",
       "    <tr>\n",
       "      <th>1</th>\n",
       "      <td>Job_000</td>\n",
       "      <td>1</td>\n",
       "      <td>M1</td>\n",
       "      <td>78</td>\n",
       "    </tr>\n",
       "    <tr>\n",
       "      <th>2</th>\n",
       "      <td>Job_000</td>\n",
       "      <td>2</td>\n",
       "      <td>M2</td>\n",
       "      <td>9</td>\n",
       "    </tr>\n",
       "    <tr>\n",
       "      <th>3</th>\n",
       "      <td>Job_000</td>\n",
       "      <td>3</td>\n",
       "      <td>M3</td>\n",
       "      <td>36</td>\n",
       "    </tr>\n",
       "    <tr>\n",
       "      <th>4</th>\n",
       "      <td>Job_000</td>\n",
       "      <td>4</td>\n",
       "      <td>M4</td>\n",
       "      <td>49</td>\n",
       "    </tr>\n",
       "    <tr>\n",
       "      <th>...</th>\n",
       "      <td>...</td>\n",
       "      <td>...</td>\n",
       "      <td>...</td>\n",
       "      <td>...</td>\n",
       "    </tr>\n",
       "    <tr>\n",
       "      <th>375</th>\n",
       "      <td>Job_037</td>\n",
       "      <td>5</td>\n",
       "      <td>M9</td>\n",
       "      <td>76</td>\n",
       "    </tr>\n",
       "    <tr>\n",
       "      <th>376</th>\n",
       "      <td>Job_037</td>\n",
       "      <td>6</td>\n",
       "      <td>M5</td>\n",
       "      <td>47</td>\n",
       "    </tr>\n",
       "    <tr>\n",
       "      <th>377</th>\n",
       "      <td>Job_037</td>\n",
       "      <td>7</td>\n",
       "      <td>M3</td>\n",
       "      <td>52</td>\n",
       "    </tr>\n",
       "    <tr>\n",
       "      <th>378</th>\n",
       "      <td>Job_037</td>\n",
       "      <td>8</td>\n",
       "      <td>M4</td>\n",
       "      <td>90</td>\n",
       "    </tr>\n",
       "    <tr>\n",
       "      <th>379</th>\n",
       "      <td>Job_037</td>\n",
       "      <td>9</td>\n",
       "      <td>M7</td>\n",
       "      <td>45</td>\n",
       "    </tr>\n",
       "  </tbody>\n",
       "</table>\n",
       "<p>380 rows × 4 columns</p>\n",
       "</div>"
      ],
      "text/plain": [
       "         Job Operation Machine Processing Time\n",
       "0    Job_000         0      M0              29\n",
       "1    Job_000         1      M1              78\n",
       "2    Job_000         2      M2               9\n",
       "3    Job_000         3      M3              36\n",
       "4    Job_000         4      M4              49\n",
       "..       ...       ...     ...             ...\n",
       "375  Job_037         5      M9              76\n",
       "376  Job_037         6      M5              47\n",
       "377  Job_037         7      M3              52\n",
       "378  Job_037         8      M4              90\n",
       "379  Job_037         9      M7              45\n",
       "\n",
       "[380 rows x 4 columns]"
      ]
     },
     "execution_count": 34,
     "metadata": {},
     "output_type": "execute_result"
    }
   ],
   "source": [
    "df_jssp, df_times = rp_init.init_jobs_with_arrivals(df_instance, 2,  u_b_mmax = 0.9)\n",
    "df_jssp"
   ]
  },
  {
   "cell_type": "code",
   "execution_count": 36,
   "id": "4c0d051e-abc4-471b-84f9-cec672882e7e",
   "metadata": {},
   "outputs": [
    {
     "data": {
      "text/html": [
       "<div>\n",
       "<style scoped>\n",
       "    .dataframe tbody tr th:only-of-type {\n",
       "        vertical-align: middle;\n",
       "    }\n",
       "\n",
       "    .dataframe tbody tr th {\n",
       "        vertical-align: top;\n",
       "    }\n",
       "\n",
       "    .dataframe thead th {\n",
       "        text-align: right;\n",
       "    }\n",
       "</style>\n",
       "<table border=\"1\" class=\"dataframe\">\n",
       "  <thead>\n",
       "    <tr style=\"text-align: right;\">\n",
       "      <th></th>\n",
       "      <th>Job</th>\n",
       "      <th>Arrival</th>\n",
       "    </tr>\n",
       "  </thead>\n",
       "  <tbody>\n",
       "    <tr>\n",
       "      <th>0</th>\n",
       "      <td>Job_000</td>\n",
       "      <td>0.00</td>\n",
       "    </tr>\n",
       "    <tr>\n",
       "      <th>1</th>\n",
       "      <td>Job_001</td>\n",
       "      <td>88.05</td>\n",
       "    </tr>\n",
       "    <tr>\n",
       "      <th>2</th>\n",
       "      <td>Job_002</td>\n",
       "      <td>152.78</td>\n",
       "    </tr>\n",
       "    <tr>\n",
       "      <th>3</th>\n",
       "      <td>Job_003</td>\n",
       "      <td>207.97</td>\n",
       "    </tr>\n",
       "    <tr>\n",
       "      <th>4</th>\n",
       "      <td>Job_004</td>\n",
       "      <td>246.61</td>\n",
       "    </tr>\n",
       "    <tr>\n",
       "      <th>...</th>\n",
       "      <td>...</td>\n",
       "      <td>...</td>\n",
       "    </tr>\n",
       "    <tr>\n",
       "      <th>33</th>\n",
       "      <td>Job_033</td>\n",
       "      <td>2630.89</td>\n",
       "    </tr>\n",
       "    <tr>\n",
       "      <th>34</th>\n",
       "      <td>Job_034</td>\n",
       "      <td>2637.28</td>\n",
       "    </tr>\n",
       "    <tr>\n",
       "      <th>35</th>\n",
       "      <td>Job_035</td>\n",
       "      <td>2638.72</td>\n",
       "    </tr>\n",
       "    <tr>\n",
       "      <th>36</th>\n",
       "      <td>Job_036</td>\n",
       "      <td>2764.04</td>\n",
       "    </tr>\n",
       "    <tr>\n",
       "      <th>37</th>\n",
       "      <td>Job_037</td>\n",
       "      <td>2869.61</td>\n",
       "    </tr>\n",
       "  </tbody>\n",
       "</table>\n",
       "<p>38 rows × 2 columns</p>\n",
       "</div>"
      ],
      "text/plain": [
       "        Job  Arrival\n",
       "0   Job_000     0.00\n",
       "1   Job_001    88.05\n",
       "2   Job_002   152.78\n",
       "3   Job_003   207.97\n",
       "4   Job_004   246.61\n",
       "..      ...      ...\n",
       "33  Job_033  2630.89\n",
       "34  Job_034  2637.28\n",
       "35  Job_035  2638.72\n",
       "36  Job_036  2764.04\n",
       "37  Job_037  2869.61\n",
       "\n",
       "[38 rows x 2 columns]"
      ]
     },
     "execution_count": 36,
     "metadata": {},
     "output_type": "execute_result"
    }
   ],
   "source": [
    "df_times"
   ]
  },
  {
   "cell_type": "code",
   "execution_count": null,
   "id": "adea4135-cc3a-4fed-9edf-2ac06073ebb7",
   "metadata": {},
   "outputs": [],
   "source": [
    "max_time = 60*60*4 # 4h"
   ]
  },
  {
   "cell_type": "markdown",
   "id": "3267907a-c7e0-4c75-9ee0-4a09ff87ea60",
   "metadata": {},
   "source": [
    "## I) Complete Scheduling"
   ]
  },
  {
   "cell_type": "code",
   "execution_count": null,
   "id": "3239c991-735d-481a-b756-eafbff27a152",
   "metadata": {},
   "outputs": [],
   "source": [
    "starting_time = time.time()\n",
    "\n",
    "# Scheduling\n",
    "df_plan = ssv.solve_jssp_flowtime(df_jssp, df_times, solver= \"HiGHS\", msg=True, timeLimit=max_time, gapRel= 0.10)\n",
    "df_plan\n",
    "\n",
    "# Informationen\n",
    "ending_time = time.time()\n",
    "solver_duration = ending_time - starting_time\n",
    "print(f\"\\nScheduling-Dauer: {int(solver_duration // 60)} Minuten und {(solver_duration % 60):.2f} Sekunden.\")\n",
    "df_plan"
   ]
  },
  {
   "cell_type": "code",
   "execution_count": null,
   "id": "9044a301-09b4-4644-b309-05a94f0442c4",
   "metadata": {},
   "outputs": [],
   "source": [
    "show.plot_gantt_machines(df_plan)\n",
    "\n",
    "check.is_machine_conflict_free(df_plan)\n",
    "check.is_operation_sequence_correct(df_plan)\n",
    "check.is_job_timing_correct(df_plan)\n",
    "check.is_start_correct(df_plan)"
   ]
  },
  {
   "cell_type": "markdown",
   "id": "3e7096a7-8e3e-4278-ac1e-3aec3807f681",
   "metadata": {},
   "source": [
    "## II) Erster Tag (Tag 0)"
   ]
  },
  {
   "cell_type": "markdown",
   "id": "89bfc735-8d24-4aab-a9dc-9f60b7187e67",
   "metadata": {},
   "source": [
    "### a) Simulation"
   ]
  },
  {
   "cell_type": "code",
   "execution_count": 44,
   "id": "eace3b8a-233e-44f0-ba67-8578355c6f3e",
   "metadata": {},
   "outputs": [],
   "source": [
    "day_length = 1440"
   ]
  },
  {
   "cell_type": "code",
   "execution_count": 46,
   "id": "2ae3b72f-14ca-4550-9e66-547d94f88ab9",
   "metadata": {},
   "outputs": [],
   "source": [
    "day_numb = 0\n",
    "\n",
    "day_start = day_length*day_numb \n",
    "day_end = day_start + day_length"
   ]
  },
  {
   "cell_type": "code",
   "execution_count": 48,
   "id": "24110bd6-46ca-4d87-a1cc-c9b261b3384f",
   "metadata": {},
   "outputs": [
    {
     "ename": "NameError",
     "evalue": "name 'df_plan' is not defined",
     "output_type": "error",
     "traceback": [
      "\u001b[1;31m---------------------------------------------------------------------------\u001b[0m",
      "\u001b[1;31mNameError\u001b[0m                                 Traceback (most recent call last)",
      "Cell \u001b[1;32mIn[48], line 1\u001b[0m\n\u001b[1;32m----> 1\u001b[0m simulation \u001b[38;5;241m=\u001b[39m ProductionDaySimulation(df_plan, vc\u001b[38;5;241m=\u001b[39m\u001b[38;5;241m0.35\u001b[39m)\n\u001b[0;32m      2\u001b[0m df_execution, df_undone \u001b[38;5;241m=\u001b[39m simulation\u001b[38;5;241m.\u001b[39mrun(start_time \u001b[38;5;241m=\u001b[39m day_start, end_time\u001b[38;5;241m=\u001b[39mday_end)\n",
      "\u001b[1;31mNameError\u001b[0m: name 'df_plan' is not defined"
     ]
    }
   ],
   "source": [
    "simulation = ProductionDaySimulation(df_plan, vc=0.35)\n",
    "df_execution, df_undone = simulation.run(start_time = day_start, end_time=day_end)"
   ]
  },
  {
   "cell_type": "code",
   "execution_count": null,
   "id": "c5daef60-9f0e-4c4e-bdcb-c42ae3c17cbf",
   "metadata": {},
   "outputs": [],
   "source": [
    "df_undone"
   ]
  },
  {
   "cell_type": "code",
   "execution_count": null,
   "id": "0aca4a5b-dbde-465f-ac59-bf9a052ad537",
   "metadata": {},
   "outputs": [],
   "source": [
    "if not df_execution.empty:\n",
    "    show.plot_gantt_machines(df_execution, title=f\"Gantt-Diagramm ab Tag {day_numb}\", duration_column=\"Simulated Processing Time\")\n",
    "else:\n",
    "    print(f\"Nothing executed on day {day_numb}\")"
   ]
  },
  {
   "cell_type": "markdown",
   "id": "ae9b85c7-7a18-4611-b738-4b9b18aaf935",
   "metadata": {},
   "source": [
    "### b) Verbleibene Jobs (Rest)"
   ]
  },
  {
   "cell_type": "code",
   "execution_count": null,
   "id": "7dc54407-57b7-4b58-88c0-750cdfc7cca6",
   "metadata": {},
   "outputs": [],
   "source": [
    "df_rest = df_plan.merge(df_execution[[\"Job\", \"Machine\"]], on=[\"Job\", \"Machine\"], how=\"left\", indicator=True)\n",
    "df_rest = df_rest[df_rest[\"_merge\"] == \"left_only\"].drop(columns=[\"_merge\"])\n",
    "df_rest = df_rest.sort_values(by=[\"Arrival\", \"Start\"]).reset_index(drop=True)\n",
    "df_rest"
   ]
  },
  {
   "cell_type": "code",
   "execution_count": null,
   "id": "9ecd6d73-e14b-4613-88ce-06abd43ccd5f",
   "metadata": {},
   "outputs": [],
   "source": [
    "allowed = df_rest[\"Job\"].unique() \n",
    "df_time_rest = df_times[df_times[\"Job\"].isin(allowed)].copy()\n",
    "df_time_rest"
   ]
  },
  {
   "cell_type": "markdown",
   "id": "c91e614a-f011-412b-8ed3-375d11daf3c1",
   "metadata": {},
   "source": [
    "## III) Rescheduling\n",
    "> vereinfacht, ohne neu Aufträge (nur der Rest)"
   ]
  },
  {
   "cell_type": "code",
   "execution_count": null,
   "id": "e16a4366-f820-4f5c-8b00-8c875eb6dea1",
   "metadata": {},
   "outputs": [],
   "source": [
    "# Reduktion der bereits ausgeführten Operationen auf die relevanten für die nächsten Tage\n",
    "df_execution_important = df_execution[df_execution[\"End\"] >= 1440]\n",
    "df_execution_important"
   ]
  },
  {
   "cell_type": "code",
   "execution_count": null,
   "id": "c11c667d-b8f2-469f-bb42-5b6eaf53c843",
   "metadata": {},
   "outputs": [],
   "source": [
    "df_reschedule = rssv.solve_jssp_individual_flowtime_with_fixed_ops(df_rest, df_time_rest, df_execution_important,\n",
    "                                                                   reschedule_start = 1440,\n",
    "                                                                   solver= \"HiGHS\", msg=True, timeLimit=max_time, gapRel= 0.10)\n",
    "df_reschedule"
   ]
  },
  {
   "cell_type": "code",
   "execution_count": null,
   "id": "998d89ac-d726-4c0f-ae1e-6f87b8528a81",
   "metadata": {},
   "outputs": [],
   "source": [
    "show.plot_gantt_machines(df_reschedule)\n",
    "check.is_machine_conflict_free(df_plan)\n",
    "check.is_operation_sequence_correct(df_plan)\n",
    "check.is_job_timing_correct(df_plan)\n",
    "check.is_start_correct(df_plan)"
   ]
  }
 ],
 "metadata": {
  "kernelspec": {
   "display_name": "Python [conda env:base] *",
   "language": "python",
   "name": "conda-base-py"
  },
  "language_info": {
   "codemirror_mode": {
    "name": "ipython",
    "version": 3
   },
   "file_extension": ".py",
   "mimetype": "text/x-python",
   "name": "python",
   "nbconvert_exporter": "python",
   "pygments_lexer": "ipython3",
   "version": "3.12.9"
  }
 },
 "nbformat": 4,
 "nbformat_minor": 5
}
